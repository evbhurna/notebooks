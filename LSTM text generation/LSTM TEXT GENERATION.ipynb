{
 "cells": [
  {
   "cell_type": "code",
   "execution_count": 1,
   "metadata": {},
   "outputs": [],
   "source": [
    "import tensorflow as tf\n",
    "\n",
    "import numpy as np\n",
    "import os\n",
    "import time"
   ]
  },
  {
   "cell_type": "code",
   "execution_count": 2,
   "metadata": {},
   "outputs": [],
   "source": [
    "#path_to_file = tf.keras.utils.get_file('shakespeare.txt', 'https://storage.googleapis.com/download.tensorflow.org/data/shakespeare.txt')\n",
    "path_to_file = 'south_park.txt'"
   ]
  },
  {
   "cell_type": "code",
   "execution_count": 3,
   "metadata": {},
   "outputs": [
    {
     "name": "stdout",
     "output_type": "stream",
     "text": [
      "Length of text: 359421 characters\n"
     ]
    }
   ],
   "source": [
    "# Read, then decode for py2 compat.\n",
    "text = open(path_to_file, 'rb').read().decode(encoding=\"ISO-8859-1\")\n",
    "# length of text is the number of characters in it\n",
    "print ('Length of text: {} characters'.format(len(text)))"
   ]
  },
  {
   "cell_type": "code",
   "execution_count": 4,
   "metadata": {},
   "outputs": [
    {
     "name": "stdout",
     "output_type": "stream",
     "text": [
      "At the bus stop.\r\n",
      "Boys\r\n",
      "School day, school day, teacher's golden ru...\r\n",
      "Kyle Broflovski\r\n",
      "Ah, damn it! My little brother's trying to follow me to school again.\r\n",
      "Ike Broflovski\r\n",
      "Zeeponanner.\r\n",
      "Kyle\r\n",
      "Ike, you can't come to school with me. [Ike Chortles.]\n"
     ]
    }
   ],
   "source": [
    "# Take a look at the first 250 characters in text\n",
    "print(text[:250])\n",
    "text = text.replace('\\n\\n','\\n')\n",
    "text = text.replace('\\r','')\n",
    "text = text.replace('\\t','')"
   ]
  },
  {
   "cell_type": "code",
   "execution_count": 5,
   "metadata": {},
   "outputs": [
    {
     "name": "stdout",
     "output_type": "stream",
     "text": [
      "87 unique characters\n"
     ]
    }
   ],
   "source": [
    "# The unique characters in the file\n",
    "vocab = sorted(set(text))\n",
    "print ('{} unique characters'.format(len(vocab)))"
   ]
  },
  {
   "cell_type": "code",
   "execution_count": 6,
   "metadata": {},
   "outputs": [],
   "source": [
    "# Creating a mapping from unique characters to indices\n",
    "char2idx = {u:i for i, u in enumerate(vocab)}\n",
    "idx2char = np.array(vocab)\n",
    "\n",
    "text_as_int = np.array([char2idx[c] for c in text])"
   ]
  },
  {
   "cell_type": "code",
   "execution_count": 7,
   "metadata": {},
   "outputs": [
    {
     "name": "stdout",
     "output_type": "stream",
     "text": [
      "{\n",
      "  '\\n':   0,\n",
      "  ' ' :   1,\n",
      "  '!' :   2,\n",
      "  '\"' :   3,\n",
      "  '$' :   4,\n",
      "  '%' :   5,\n",
      "  '&' :   6,\n",
      "  \"'\" :   7,\n",
      "  '(' :   8,\n",
      "  ')' :   9,\n",
      "  '+' :  10,\n",
      "  ',' :  11,\n",
      "  '-' :  12,\n",
      "  '.' :  13,\n",
      "  '0' :  14,\n",
      "  '1' :  15,\n",
      "  '2' :  16,\n",
      "  '3' :  17,\n",
      "  '4' :  18,\n",
      "  '5' :  19,\n",
      "  ...\n",
      "}\n"
     ]
    }
   ],
   "source": [
    "#Unique Characters with mapping\n",
    "print('{')\n",
    "for char,_ in zip(char2idx, range(20)):\n",
    "    print('  {:4s}: {:3d},'.format(repr(char), char2idx[char]))\n",
    "print('  ...\\n}')"
   ]
  },
  {
   "cell_type": "code",
   "execution_count": 8,
   "metadata": {},
   "outputs": [
    {
     "name": "stdout",
     "output_type": "stream",
     "text": [
      "'At the bus st' ---- characters mapped to int ---- > [27 74  1 74 62 59  1 56 75 73  1 73 74]\n"
     ]
    }
   ],
   "source": [
    "# Show how the first 13 characters from the text are mapped to integers\n",
    "print ('{} ---- characters mapped to int ---- > {}'.format(repr(text[:13]), text_as_int[:13]))"
   ]
  },
  {
   "cell_type": "code",
   "execution_count": 9,
   "metadata": {},
   "outputs": [
    {
     "name": "stdout",
     "output_type": "stream",
     "text": [
      "A\n",
      "t\n",
      " \n",
      "t\n",
      "h\n"
     ]
    }
   ],
   "source": [
    "# The maximum length sentence we want for a single input in characters\n",
    "seq_length = 100\n",
    "examples_per_epoch = len(text)//(seq_length+1)\n",
    "\n",
    "# Create training examples / targets\n",
    "char_dataset = tf.data.Dataset.from_tensor_slices(text_as_int)\n",
    "\n",
    "for i in char_dataset.take(5):\n",
    "  print(idx2char[i.numpy()])"
   ]
  },
  {
   "cell_type": "code",
   "execution_count": 10,
   "metadata": {},
   "outputs": [
    {
     "name": "stdout",
     "output_type": "stream",
     "text": [
      "\"At the bus stop.\\nBoys\\nSchool day, school day, teacher's golden ru...\\nKyle Broflovski\\nAh, damn it! My \"\n",
      "\"little brother's trying to follow me to school again.\\nIke Broflovski\\nZeeponanner.\\nKyle\\nIke, you can't\"\n",
      "\" come to school with me. [Ike Chortles.]\\nEric Cartman\\nYeah, go home you little dildo!\\nKyle\\nDude, don'\"\n",
      "\"t call my brother a dildo!\\nStan Marsh\\nWhat's a dildo?\\nKyle\\nWell, I don't know...[He faces Cartman and\"\n",
      "\" points at him.] and I'll bet Cartman doesn't know either!\\nCartman\\nI know what it means!\\nKyle\\nWell, w\"\n"
     ]
    }
   ],
   "source": [
    "#See sequences made for training\n",
    "sequences = char_dataset.batch(seq_length+1, drop_remainder=True)\n",
    "\n",
    "for item in sequences.take(5):\n",
    "  print(repr(''.join(idx2char[item.numpy()])))"
   ]
  },
  {
   "cell_type": "code",
   "execution_count": 11,
   "metadata": {},
   "outputs": [],
   "source": [
    "#create the input and target chunks of text sequences\n",
    "def split_input_target(chunk):\n",
    "    input_text = chunk[:-1]\n",
    "    target_text = chunk[1:]\n",
    "    return input_text, target_text\n",
    "\n",
    "dataset = sequences.map(split_input_target)"
   ]
  },
  {
   "cell_type": "code",
   "execution_count": 12,
   "metadata": {},
   "outputs": [
    {
     "name": "stdout",
     "output_type": "stream",
     "text": [
      "Input data:  \"At the bus stop.\\nBoys\\nSchool day, school day, teacher's golden ru...\\nKyle Broflovski\\nAh, damn it! My\"\n",
      "Target data: \"t the bus stop.\\nBoys\\nSchool day, school day, teacher's golden ru...\\nKyle Broflovski\\nAh, damn it! My \"\n"
     ]
    }
   ],
   "source": [
    "#See sample sequence input and target\n",
    "for input_example, target_example in  dataset.take(1):\n",
    "  print ('Input data: ', repr(''.join(idx2char[input_example.numpy()])))\n",
    "  print ('Target data:', repr(''.join(idx2char[target_example.numpy()])))"
   ]
  },
  {
   "cell_type": "code",
   "execution_count": 13,
   "metadata": {},
   "outputs": [
    {
     "data": {
      "text/plain": [
       "<BatchDataset shapes: ((64, 100), (64, 100)), types: (tf.int32, tf.int32)>"
      ]
     },
     "execution_count": 13,
     "metadata": {},
     "output_type": "execute_result"
    }
   ],
   "source": [
    "# Batch size\n",
    "BATCH_SIZE = 64\n",
    "\n",
    "# Buffer size to shuffle the dataset\n",
    "# (TF data is designed to work with possibly infinite sequences,\n",
    "# so it doesn't attempt to shuffle the entire sequence in memory. Instead,\n",
    "# it maintains a buffer in which it shuffles elements).\n",
    "BUFFER_SIZE = 10000\n",
    "\n",
    "dataset = dataset.shuffle(BUFFER_SIZE).batch(BATCH_SIZE, drop_remainder=True)\n",
    "\n",
    "dataset"
   ]
  },
  {
   "cell_type": "code",
   "execution_count": 14,
   "metadata": {},
   "outputs": [],
   "source": [
    "# Length of the vocabulary in chars\n",
    "vocab_size = len(vocab)\n",
    "\n",
    "# The embedding dimension\n",
    "embedding_dim = 512\n",
    "\n",
    "# Number of RNN units\n",
    "rnn_units = 1024"
   ]
  },
  {
   "cell_type": "code",
   "execution_count": 15,
   "metadata": {},
   "outputs": [],
   "source": [
    "#create model architecture\n",
    "def build_model(vocab_size, embedding_dim, rnn_units, batch_size):\n",
    "  model = tf.keras.Sequential([\n",
    "    tf.keras.layers.Embedding(vocab_size, embedding_dim,\n",
    "                              batch_input_shape=[batch_size, None]),\n",
    "    tf.keras.layers.LSTM(rnn_units,\n",
    "                        return_sequences=True,\n",
    "                        stateful=True,\n",
    "                        recurrent_initializer='glorot_uniform'),\n",
    "    tf.keras.layers.Dense(vocab_size)\n",
    "  ])\n",
    "  return model"
   ]
  },
  {
   "cell_type": "code",
   "execution_count": 16,
   "metadata": {},
   "outputs": [],
   "source": [
    "#build the model\n",
    "model = build_model(\n",
    "  vocab_size = len(vocab),\n",
    "  embedding_dim=embedding_dim,\n",
    "  rnn_units=rnn_units,\n",
    "  batch_size=BATCH_SIZE)"
   ]
  },
  {
   "cell_type": "code",
   "execution_count": 17,
   "metadata": {},
   "outputs": [
    {
     "name": "stdout",
     "output_type": "stream",
     "text": [
      "(64, 100, 87) # (batch_size, sequence_length, vocab_size)\n"
     ]
    }
   ],
   "source": [
    "#separate batches for training\n",
    "for input_example_batch, target_example_batch in dataset.take(1):\n",
    "  example_batch_predictions = model(input_example_batch)\n",
    "  print(example_batch_predictions.shape, \"# (batch_size, sequence_length, vocab_size)\")"
   ]
  },
  {
   "cell_type": "code",
   "execution_count": 18,
   "metadata": {
    "scrolled": false
   },
   "outputs": [
    {
     "name": "stdout",
     "output_type": "stream",
     "text": [
      "Model: \"sequential\"\n",
      "_________________________________________________________________\n",
      "Layer (type)                 Output Shape              Param #   \n",
      "=================================================================\n",
      "embedding (Embedding)        (64, None, 512)           44544     \n",
      "_________________________________________________________________\n",
      "lstm (LSTM)                  (64, None, 1024)          6295552   \n",
      "_________________________________________________________________\n",
      "dense (Dense)                (64, None, 87)            89175     \n",
      "=================================================================\n",
      "Total params: 6,429,271\n",
      "Trainable params: 6,429,271\n",
      "Non-trainable params: 0\n",
      "_________________________________________________________________\n"
     ]
    }
   ],
   "source": [
    "#See model summary\n",
    "model.summary()"
   ]
  },
  {
   "cell_type": "code",
   "execution_count": 19,
   "metadata": {},
   "outputs": [
    {
     "data": {
      "text/plain": [
       "array([68, 74, 11, 78, 16, 74, 37,  0, 41, 24, 38, 55, 43, 61, 37, 82, 68,\n",
       "       14, 74, 20, 47, 85, 16, 71, 67, 74, 45, 66, 80, 49, 15, 74, 56, 85,\n",
       "       72, 71, 21, 40, 80, 85, 26,  2, 10, 48, 16, 16,  9, 26, 35, 28, 82,\n",
       "       38, 66,  1, 56,  0, 25, 81, 78,  7, 22, 63, 14, 56, 62, 35, 17, 34,\n",
       "       49,  0,  5, 67, 70, 66, 65, 36, 37, 62, 75, 76, 58, 50, 40, 82, 13,\n",
       "       37, 72, 43, 29, 50, 50, 79, 36, 71, 30, 44, 47, 26, 49, 49],\n",
       "      dtype=int64)"
      ]
     },
     "execution_count": 19,
     "metadata": {},
     "output_type": "execute_result"
    }
   ],
   "source": [
    "sampled_indices = tf.random.categorical(example_batch_predictions[0], num_samples=1)\n",
    "sampled_indices = tf.squeeze(sampled_indices,axis=-1).numpy()\n",
    "sampled_indices"
   ]
  },
  {
   "cell_type": "code",
   "execution_count": 20,
   "metadata": {
    "scrolled": true
   },
   "outputs": [
    {
     "name": "stdout",
     "output_type": "stream",
     "text": [
      "Prediction shape:  (64, 100, 87)  # (batch_size, sequence_length, vocab_size)\n",
      "scalar_loss:       4.467412\n"
     ]
    }
   ],
   "source": [
    "#create loss function\n",
    "def loss(labels, logits):\n",
    "  return tf.keras.losses.sparse_categorical_crossentropy(labels, logits, from_logits=True)\n",
    "\n",
    "\n",
    "example_batch_loss  = loss(target_example_batch, example_batch_predictions)\n",
    "print(\"Prediction shape: \", example_batch_predictions.shape, \" # (batch_size, sequence_length, vocab_size)\")\n",
    "print(\"scalar_loss:      \", example_batch_loss.numpy().mean())"
   ]
  },
  {
   "cell_type": "code",
   "execution_count": 21,
   "metadata": {},
   "outputs": [],
   "source": [
    "#compile the model with the optimizer and loss function\n",
    "model.compile(optimizer='adam', loss=loss)"
   ]
  },
  {
   "cell_type": "code",
   "execution_count": 22,
   "metadata": {},
   "outputs": [],
   "source": [
    "# Directory where the checkpoints will be saved\n",
    "checkpoint_dir = './training_checkpoints'\n",
    "# Name of the checkpoint files\n",
    "checkpoint_prefix = os.path.join(checkpoint_dir, \"ckpt_{epoch}\")\n",
    "\n",
    "checkpoint_callback=tf.keras.callbacks.ModelCheckpoint(\n",
    "    filepath=checkpoint_prefix,\n",
    "    save_weights_only=True)"
   ]
  },
  {
   "cell_type": "code",
   "execution_count": 23,
   "metadata": {},
   "outputs": [],
   "source": [
    "#set number of epochs\n",
    "EPOCHS=150"
   ]
  },
  {
   "cell_type": "code",
   "execution_count": 24,
   "metadata": {
    "scrolled": false
   },
   "outputs": [
    {
     "name": "stdout",
     "output_type": "stream",
     "text": [
      "Epoch 1/150\n",
      "53/53 [==============================] - 11s 198ms/step - loss: 3.2043\n",
      "Epoch 2/150\n",
      "53/53 [==============================] - 9s 162ms/step - loss: 2.4896\n",
      "Epoch 3/150\n",
      "53/53 [==============================] - 9s 162ms/step - loss: 2.1973\n",
      "Epoch 4/150\n",
      "53/53 [==============================] - 9s 168ms/step - loss: 1.9945\n",
      "Epoch 5/150\n",
      "53/53 [==============================] - 9s 164ms/step - loss: 1.8403\n",
      "Epoch 6/150\n",
      "53/53 [==============================] - 9s 165ms/step - loss: 1.7146\n",
      "Epoch 7/150\n",
      "53/53 [==============================] - 9s 166ms/step - loss: 1.6136\n",
      "Epoch 8/150\n",
      "53/53 [==============================] - 9s 167ms/step - loss: 1.5330\n",
      "Epoch 9/150\n",
      "53/53 [==============================] - 9s 167ms/step - loss: 1.4617\n",
      "Epoch 10/150\n",
      "53/53 [==============================] - 9s 168ms/step - loss: 1.4027\n",
      "Epoch 11/150\n",
      "53/53 [==============================] - 9s 165ms/step - loss: 1.3466\n",
      "Epoch 12/150\n",
      "53/53 [==============================] - 9s 167ms/step - loss: 1.2977\n",
      "Epoch 13/150\n",
      "53/53 [==============================] - 9s 168ms/step - loss: 1.2513\n",
      "Epoch 14/150\n",
      "53/53 [==============================] - 9s 167ms/step - loss: 1.2069\n",
      "Epoch 15/150\n",
      "53/53 [==============================] - 9s 169ms/step - loss: 1.1626\n",
      "Epoch 16/150\n",
      "53/53 [==============================] - 9s 166ms/step - loss: 1.1191\n",
      "Epoch 17/150\n",
      "53/53 [==============================] - 9s 166ms/step - loss: 1.0756\n",
      "Epoch 18/150\n",
      "53/53 [==============================] - 9s 169ms/step - loss: 1.0307\n",
      "Epoch 19/150\n",
      "53/53 [==============================] - 9s 171ms/step - loss: 0.9857\n",
      "Epoch 20/150\n",
      "53/53 [==============================] - 9s 169ms/step - loss: 0.9405\n",
      "Epoch 21/150\n",
      "53/53 [==============================] - 9s 170ms/step - loss: 0.8947\n",
      "Epoch 22/150\n",
      "53/53 [==============================] - 9s 168ms/step - loss: 0.8498\n",
      "Epoch 23/150\n",
      "53/53 [==============================] - 9s 168ms/step - loss: 0.8036\n",
      "Epoch 24/150\n",
      "53/53 [==============================] - 9s 164ms/step - loss: 0.7581\n",
      "Epoch 25/150\n",
      "53/53 [==============================] - 9s 168ms/step - loss: 0.7132\n",
      "Epoch 26/150\n",
      "53/53 [==============================] - 9s 167ms/step - loss: 0.6722\n",
      "Epoch 27/150\n",
      "53/53 [==============================] - 9s 168ms/step - loss: 0.6316\n",
      "Epoch 28/150\n",
      "53/53 [==============================] - 9s 166ms/step - loss: 0.5916\n",
      "Epoch 29/150\n",
      "53/53 [==============================] - 9s 168ms/step - loss: 0.5533\n",
      "Epoch 30/150\n",
      "53/53 [==============================] - 9s 168ms/step - loss: 0.5232\n",
      "Epoch 31/150\n",
      "53/53 [==============================] - 9s 167ms/step - loss: 0.4920\n",
      "Epoch 32/150\n",
      "53/53 [==============================] - 9s 166ms/step - loss: 0.4645\n",
      "Epoch 33/150\n",
      "53/53 [==============================] - 9s 170ms/step - loss: 0.4404\n",
      "Epoch 34/150\n",
      "53/53 [==============================] - 9s 173ms/step - loss: 0.4145\n",
      "Epoch 35/150\n",
      "53/53 [==============================] - 9s 168ms/step - loss: 0.3940\n",
      "Epoch 36/150\n",
      "53/53 [==============================] - 9s 169ms/step - loss: 0.3768\n",
      "Epoch 37/150\n",
      "53/53 [==============================] - 9s 167ms/step - loss: 0.3607\n",
      "Epoch 38/150\n",
      "53/53 [==============================] - 9s 170ms/step - loss: 0.3477\n",
      "Epoch 39/150\n",
      "53/53 [==============================] - 9s 174ms/step - loss: 0.3372\n",
      "Epoch 40/150\n",
      "53/53 [==============================] - 9s 169ms/step - loss: 0.3242\n",
      "Epoch 41/150\n",
      "53/53 [==============================] - 9s 170ms/step - loss: 0.3133\n",
      "Epoch 42/150\n",
      "53/53 [==============================] - 9s 170ms/step - loss: 0.3062\n",
      "Epoch 43/150\n",
      "53/53 [==============================] - 9s 169ms/step - loss: 0.2971\n",
      "Epoch 44/150\n",
      "53/53 [==============================] - 9s 170ms/step - loss: 0.2867\n",
      "Epoch 45/150\n",
      "53/53 [==============================] - 9s 166ms/step - loss: 0.2819\n",
      "Epoch 46/150\n",
      "53/53 [==============================] - 9s 170ms/step - loss: 0.2768\n",
      "Epoch 47/150\n",
      "53/53 [==============================] - 9s 171ms/step - loss: 0.2695\n",
      "Epoch 48/150\n",
      "53/53 [==============================] - 9s 172ms/step - loss: 0.2647\n",
      "Epoch 49/150\n",
      "53/53 [==============================] - 9s 170ms/step - loss: 0.2622\n",
      "Epoch 50/150\n",
      "53/53 [==============================] - 9s 168ms/step - loss: 0.2571\n",
      "Epoch 51/150\n",
      "53/53 [==============================] - 9s 167ms/step - loss: 0.2540\n",
      "Epoch 52/150\n",
      "53/53 [==============================] - 9s 171ms/step - loss: 0.2504\n",
      "Epoch 53/150\n",
      "53/53 [==============================] - 9s 169ms/step - loss: 0.2460\n",
      "Epoch 54/150\n",
      "53/53 [==============================] - 9s 170ms/step - loss: 0.2448\n",
      "Epoch 55/150\n",
      "53/53 [==============================] - 9s 170ms/step - loss: 0.2413\n",
      "Epoch 56/150\n",
      "53/53 [==============================] - 9s 171ms/step - loss: 0.2365\n",
      "Epoch 57/150\n",
      "53/53 [==============================] - 9s 168ms/step - loss: 0.2348\n",
      "Epoch 58/150\n",
      "53/53 [==============================] - 9s 167ms/step - loss: 0.2335\n",
      "Epoch 59/150\n",
      "53/53 [==============================] - 9s 168ms/step - loss: 0.2307\n",
      "Epoch 60/150\n",
      "53/53 [==============================] - 9s 170ms/step - loss: 0.2280\n",
      "Epoch 61/150\n",
      "53/53 [==============================] - 9s 169ms/step - loss: 0.2267\n",
      "Epoch 62/150\n",
      "53/53 [==============================] - 9s 171ms/step - loss: 0.2232\n",
      "Epoch 63/150\n",
      "53/53 [==============================] - 9s 170ms/step - loss: 0.2233\n",
      "Epoch 64/150\n",
      "53/53 [==============================] - 9s 169ms/step - loss: 0.2203\n",
      "Epoch 65/150\n",
      "53/53 [==============================] - 9s 170ms/step - loss: 0.2197\n",
      "Epoch 66/150\n",
      "53/53 [==============================] - 9s 170ms/step - loss: 0.2189\n",
      "Epoch 67/150\n",
      "53/53 [==============================] - 9s 169ms/step - loss: 0.2146\n",
      "Epoch 68/150\n",
      "53/53 [==============================] - 9s 168ms/step - loss: 0.2138\n",
      "Epoch 69/150\n",
      "53/53 [==============================] - 9s 169ms/step - loss: 0.2137\n",
      "Epoch 70/150\n",
      "53/53 [==============================] - 9s 169ms/step - loss: 0.2123\n",
      "Epoch 71/150\n",
      "53/53 [==============================] - 9s 166ms/step - loss: 0.2102\n",
      "Epoch 72/150\n",
      "53/53 [==============================] - 9s 168ms/step - loss: 0.2084\n",
      "Epoch 73/150\n",
      "53/53 [==============================] - 9s 176ms/step - loss: 0.2073\n",
      "Epoch 74/150\n",
      "53/53 [==============================] - 9s 171ms/step - loss: 0.2051\n",
      "Epoch 75/150\n",
      "53/53 [==============================] - 9s 167ms/step - loss: 0.2045\n",
      "Epoch 76/150\n",
      "53/53 [==============================] - 9s 170ms/step - loss: 0.2023\n",
      "Epoch 77/150\n",
      "53/53 [==============================] - 9s 171ms/step - loss: 0.2030\n",
      "Epoch 78/150\n",
      "53/53 [==============================] - 9s 169ms/step - loss: 0.2038\n",
      "Epoch 79/150\n",
      "53/53 [==============================] - 9s 170ms/step - loss: 0.2026\n",
      "Epoch 80/150\n",
      "53/53 [==============================] - 9s 170ms/step - loss: 0.2019\n",
      "Epoch 81/150\n",
      "53/53 [==============================] - 9s 170ms/step - loss: 0.1991\n",
      "Epoch 82/150\n",
      "53/53 [==============================] - 9s 170ms/step - loss: 0.1989\n",
      "Epoch 83/150\n",
      "53/53 [==============================] - 9s 169ms/step - loss: 0.1987\n",
      "Epoch 84/150\n",
      "53/53 [==============================] - 9s 172ms/step - loss: 0.1963\n",
      "Epoch 85/150\n",
      "53/53 [==============================] - 9s 173ms/step - loss: 0.1950\n",
      "Epoch 86/150\n",
      "53/53 [==============================] - 9s 173ms/step - loss: 0.1939\n",
      "Epoch 87/150\n",
      "53/53 [==============================] - 9s 170ms/step - loss: 0.1933\n",
      "Epoch 88/150\n",
      "53/53 [==============================] - 9s 174ms/step - loss: 0.1916\n",
      "Epoch 89/150\n",
      "53/53 [==============================] - 9s 173ms/step - loss: 0.1914\n",
      "Epoch 90/150\n",
      "53/53 [==============================] - 9s 173ms/step - loss: 0.1901\n",
      "Epoch 91/150\n",
      "53/53 [==============================] - 9s 174ms/step - loss: 0.1908\n",
      "Epoch 92/150\n",
      "53/53 [==============================] - 9s 173ms/step - loss: 0.1893\n",
      "Epoch 93/150\n",
      "53/53 [==============================] - 9s 175ms/step - loss: 0.1878\n",
      "Epoch 94/150\n",
      "53/53 [==============================] - 9s 173ms/step - loss: 0.1882\n",
      "Epoch 95/150\n",
      "53/53 [==============================] - 9s 177ms/step - loss: 0.1877\n",
      "Epoch 96/150\n",
      "53/53 [==============================] - 9s 167ms/step - loss: 0.1870\n",
      "Epoch 97/150\n",
      "53/53 [==============================] - 9s 166ms/step - loss: 0.1866\n",
      "Epoch 98/150\n",
      "53/53 [==============================] - 9s 172ms/step - loss: 0.1857\n",
      "Epoch 99/150\n"
     ]
    },
    {
     "name": "stdout",
     "output_type": "stream",
     "text": [
      "53/53 [==============================] - 9s 170ms/step - loss: 0.1858\n",
      "Epoch 100/150\n",
      "53/53 [==============================] - 9s 169ms/step - loss: 0.1840\n",
      "Epoch 101/150\n",
      "53/53 [==============================] - 9s 170ms/step - loss: 0.1827\n",
      "Epoch 102/150\n",
      "53/53 [==============================] - 9s 167ms/step - loss: 0.1820\n",
      "Epoch 103/150\n",
      "53/53 [==============================] - 9s 170ms/step - loss: 0.1804\n",
      "Epoch 104/150\n",
      "53/53 [==============================] - 9s 166ms/step - loss: 0.1812\n",
      "Epoch 105/150\n",
      "53/53 [==============================] - 9s 170ms/step - loss: 0.1803\n",
      "Epoch 106/150\n",
      "53/53 [==============================] - 9s 170ms/step - loss: 0.1797\n",
      "Epoch 107/150\n",
      "53/53 [==============================] - 9s 169ms/step - loss: 0.1799\n",
      "Epoch 108/150\n",
      "53/53 [==============================] - 9s 169ms/step - loss: 0.1782\n",
      "Epoch 109/150\n",
      "53/53 [==============================] - 9s 167ms/step - loss: 0.1792\n",
      "Epoch 110/150\n",
      "53/53 [==============================] - 9s 170ms/step - loss: 0.1773\n",
      "Epoch 111/150\n",
      "53/53 [==============================] - 9s 168ms/step - loss: 0.1761\n",
      "Epoch 112/150\n",
      "53/53 [==============================] - 9s 169ms/step - loss: 0.1763\n",
      "Epoch 113/150\n",
      "53/53 [==============================] - 9s 168ms/step - loss: 0.1761\n",
      "Epoch 114/150\n",
      "53/53 [==============================] - 9s 167ms/step - loss: 0.1764\n",
      "Epoch 115/150\n",
      "53/53 [==============================] - 9s 167ms/step - loss: 0.1760\n",
      "Epoch 116/150\n",
      "53/53 [==============================] - 9s 170ms/step - loss: 0.1725\n",
      "Epoch 117/150\n",
      "53/53 [==============================] - 9s 167ms/step - loss: 0.1741\n",
      "Epoch 118/150\n",
      "53/53 [==============================] - 9s 172ms/step - loss: 0.1732\n",
      "Epoch 119/150\n",
      "53/53 [==============================] - 9s 172ms/step - loss: 0.1738\n",
      "Epoch 120/150\n",
      "53/53 [==============================] - 9s 169ms/step - loss: 0.1745\n",
      "Epoch 121/150\n",
      "53/53 [==============================] - 9s 171ms/step - loss: 0.1738\n",
      "Epoch 122/150\n",
      "53/53 [==============================] - 9s 173ms/step - loss: 0.1740\n",
      "Epoch 123/150\n",
      "53/53 [==============================] - 9s 173ms/step - loss: 0.1728\n",
      "Epoch 124/150\n",
      "53/53 [==============================] - 9s 172ms/step - loss: 0.1716\n",
      "Epoch 125/150\n",
      "53/53 [==============================] - 9s 171ms/step - loss: 0.1699\n",
      "Epoch 126/150\n",
      "53/53 [==============================] - 9s 176ms/step - loss: 0.1718\n",
      "Epoch 127/150\n",
      "53/53 [==============================] - 9s 173ms/step - loss: 0.1703\n",
      "Epoch 128/150\n",
      "53/53 [==============================] - 9s 172ms/step - loss: 0.1685\n",
      "Epoch 129/150\n",
      "53/53 [==============================] - 9s 173ms/step - loss: 0.1686\n",
      "Epoch 130/150\n",
      "53/53 [==============================] - 9s 174ms/step - loss: 0.1673\n",
      "Epoch 131/150\n",
      "53/53 [==============================] - 9s 172ms/step - loss: 0.1673\n",
      "Epoch 132/150\n",
      "53/53 [==============================] - 9s 179ms/step - loss: 0.1657\n",
      "Epoch 133/150\n",
      "53/53 [==============================] - 9s 174ms/step - loss: 0.1672\n",
      "Epoch 134/150\n",
      "53/53 [==============================] - 9s 175ms/step - loss: 0.1670\n",
      "Epoch 135/150\n",
      "53/53 [==============================] - 9s 175ms/step - loss: 0.1676\n",
      "Epoch 136/150\n",
      "53/53 [==============================] - 9s 175ms/step - loss: 0.1659\n",
      "Epoch 137/150\n",
      "53/53 [==============================] - 9s 174ms/step - loss: 0.1668\n",
      "Epoch 138/150\n",
      "53/53 [==============================] - 9s 175ms/step - loss: 0.1660\n",
      "Epoch 139/150\n",
      "53/53 [==============================] - 9s 175ms/step - loss: 0.1644\n",
      "Epoch 140/150\n",
      "53/53 [==============================] - 9s 174ms/step - loss: 0.1639\n",
      "Epoch 141/150\n",
      "53/53 [==============================] - 9s 175ms/step - loss: 0.1651\n",
      "Epoch 142/150\n",
      "53/53 [==============================] - 9s 176ms/step - loss: 0.1635\n",
      "Epoch 143/150\n",
      "53/53 [==============================] - 9s 174ms/step - loss: 0.1644\n",
      "Epoch 144/150\n",
      "53/53 [==============================] - 9s 174ms/step - loss: 0.1626\n",
      "Epoch 145/150\n",
      "53/53 [==============================] - 9s 175ms/step - loss: 0.1635\n",
      "Epoch 146/150\n",
      "53/53 [==============================] - 9s 173ms/step - loss: 0.1626\n",
      "Epoch 147/150\n",
      "53/53 [==============================] - 9s 176ms/step - loss: 0.1631\n",
      "Epoch 148/150\n",
      "53/53 [==============================] - 9s 175ms/step - loss: 0.1606\n",
      "Epoch 149/150\n",
      "53/53 [==============================] - 9s 177ms/step - loss: 0.1623\n",
      "Epoch 150/150\n",
      "53/53 [==============================] - 9s 175ms/step - loss: 0.1603\n"
     ]
    }
   ],
   "source": [
    "#train the model\n",
    "history = model.fit(dataset, epochs=EPOCHS, callbacks=[checkpoint_callback])"
   ]
  },
  {
   "cell_type": "code",
   "execution_count": 25,
   "metadata": {},
   "outputs": [
    {
     "data": {
      "text/plain": [
       "'./training_checkpoints\\\\ckpt_150'"
      ]
     },
     "execution_count": 25,
     "metadata": {},
     "output_type": "execute_result"
    }
   ],
   "source": [
    "#load latest checkpoint of trained model\n",
    "tf.train.latest_checkpoint(checkpoint_dir)"
   ]
  },
  {
   "cell_type": "code",
   "execution_count": 26,
   "metadata": {},
   "outputs": [],
   "source": [
    "#build the loaded trained model\n",
    "model = build_model(vocab_size, embedding_dim, rnn_units, batch_size=1)\n",
    "\n",
    "model.load_weights(tf.train.latest_checkpoint(checkpoint_dir))\n",
    "\n",
    "model.build(tf.TensorShape([1, None]))"
   ]
  },
  {
   "cell_type": "code",
   "execution_count": 27,
   "metadata": {
    "scrolled": false
   },
   "outputs": [
    {
     "name": "stdout",
     "output_type": "stream",
     "text": [
      "Model: \"sequential_1\"\n",
      "_________________________________________________________________\n",
      "Layer (type)                 Output Shape              Param #   \n",
      "=================================================================\n",
      "embedding_1 (Embedding)      (1, None, 512)            44544     \n",
      "_________________________________________________________________\n",
      "lstm_1 (LSTM)                (1, None, 1024)           6295552   \n",
      "_________________________________________________________________\n",
      "dense_1 (Dense)              (1, None, 87)             89175     \n",
      "=================================================================\n",
      "Total params: 6,429,271\n",
      "Trainable params: 6,429,271\n",
      "Non-trainable params: 0\n",
      "_________________________________________________________________\n"
     ]
    }
   ],
   "source": [
    "#see summary of loaded model\n",
    "model.summary()"
   ]
  },
  {
   "cell_type": "code",
   "execution_count": 34,
   "metadata": {},
   "outputs": [],
   "source": [
    "#create mapping of output from lstm to corresponding character\n",
    "def generate_text(model, start_string):\n",
    "  # Evaluation step (generating text using the learned model)\n",
    "\n",
    "  # Number of characters to generate\n",
    "  num_generate = 2000\n",
    "\n",
    "  # Converting our start string to numbers (vectorizing)\n",
    "  input_eval = [char2idx[s] for s in start_string]\n",
    "  input_eval = tf.expand_dims(input_eval, 0)\n",
    "\n",
    "  # Empty string to store our results\n",
    "  text_generated = []\n",
    "\n",
    "  # Low temperatures results in more predictable text.\n",
    "  # Higher temperatures results in more surprising text.\n",
    "  # Experiment to find the best setting.\n",
    "  temperature = 1.3\n",
    "\n",
    "  # Here batch size == 1\n",
    "  model.reset_states()\n",
    "  for i in range(num_generate):\n",
    "      predictions = model(input_eval)\n",
    "      # remove the batch dimension\n",
    "      predictions = tf.squeeze(predictions, 0)\n",
    "\n",
    "      # using a categorical distribution to predict the word returned by the model\n",
    "      predictions = predictions / temperature\n",
    "      predicted_id = tf.random.categorical(predictions, num_samples=1)[-1,0].numpy()\n",
    "\n",
    "      # We pass the predicted word as the next input to the model\n",
    "      # along with the previous hidden state\n",
    "      input_eval = tf.expand_dims([predicted_id], 0)\n",
    "\n",
    "      text_generated.append(idx2char[predicted_id])\n",
    "\n",
    "  return (start_string + ''.join(text_generated))"
   ]
  },
  {
   "cell_type": "code",
   "execution_count": 36,
   "metadata": {
    "scrolled": true
   },
   "outputs": [
    {
     "name": "stdout",
     "output_type": "stream",
     "text": [
      "Wendy\n",
      "KYou guys, 'Cause y, sits on either, git is make condo in gla dicatea Lee\n",
      "A sicke shouldn't be making.\n",
      "Chef\n",
      "How's it go and smile.\n",
      "UTheyle\n",
      "Yeah, what's care. It...hef humor!\n",
      "Kyle\n",
      "But the zombies are coming!\n",
      "Stan\n",
      "We'll hold 'em off.eHallowing day.\n",
      "Mephesto\n",
      "Beautiful, it's absolutely butt. [To himself.] Uhyouyg to scare me. Pery Gook and two hands reach out to reveal the outhirg Stan!\n",
      "Kyle\n",
      "Why's your boy Victoria\n",
      "Are cool, l.\n",
      "Liane\n",
      "How are you doing?\n",
      "Cartman\n",
      "Well, I'm pissed off!\n",
      "Liane\n",
      "How brison' Marvin.\n",
      "Kyle. Huthey him.\n",
      "Stan\n",
      "Yeah, yeah, we have natural gay homosey for the watch.\n",
      "Cartman\n",
      "Hey, that kind of looks like... Tom Selleck. He steps up but I know that show sh.\n",
      "Wendy\n",
      "Aaaah!\n",
      "Kyle returns his back to Pip, which fires on tek Faruse.\n",
      "Cartman\n",
      "Looks like they have t though you for some reason find?\n",
      "Kyle\n",
      "There's no new kid, but the children are in gonna be a tree-hugger.\n",
      "Cartman\n",
      "Yeah hippie, go back to homo.\n",
      "\n",
      "The bus pulks up.\n",
      "Ms. Crabtree\n",
      "SIT DOWN KID!!!\n",
      "Cartman\n",
      "[Hushs.] You guess.\n",
      "Grandpa\n",
      "Billy, my best wish you home flash on and off.\n",
      "Mayor McDaniels\n",
      "COWCAs.\n",
      "Chef\n",
      "God - Ellenca and leaves to a high F.\n",
      "Carl\n",
      "What highe do.] I'm Chef.\n",
      "Ms. Ellen\n",
      "And here, Chef. My mom sake, Cartman, it mom? Plip's your leg anywayour left. Well, oke her has in frace, pulls away.\n",
      "Wendy\n",
      "Hey, you're no bitch!\n",
      "Stan\n",
      "Well, I guess we by the fire, that's what you get when you raise your ha-\n",
      "[Pissed.] Dad, how could you?\n",
      "The kids run into Stan's house and towards his room, Death in hot gave you an and ter of est ns are on the sofa.\n",
      "Announcer\n",
      "[Anither. He's the one wingol.\n",
      "Cartman\n",
      "Whatwhatch a costume Kenny?\n",
      "Silence.\n",
      "Cartman\n",
      "Eh, too bad drinking scotc?\n",
      "Big Stan\n",
      "Uhhh? [Let me gue.\n",
      "Stan\n",
      "Leave me alone grandpa.\n",
      "On the TV there's a fart, away zombies with Mephesto\n",
      "Can I help you?\n",
      "Chef\n",
      "[Eyebrows aflutter.] I'm Chef.\n",
      "Ms. Ellen\n",
      "Are you doing?! Do we on Saturday she's a bitch\n",
      "There's other like those just lava lands in front of Cartman.\n",
      "Cartman\n",
      "You see Starion of my being all that big money on you've be\n"
     ]
    }
   ],
   "source": [
    "print(generate_text(model, start_string=\"Wendy\\n\"))"
   ]
  },
  {
   "cell_type": "code",
   "execution_count": null,
   "metadata": {},
   "outputs": [],
   "source": []
  }
 ],
 "metadata": {
  "kernelspec": {
   "display_name": "TensorFlow-GPU",
   "language": "python",
   "name": "tf-gpu"
  },
  "language_info": {
   "codemirror_mode": {
    "name": "ipython",
    "version": 3
   },
   "file_extension": ".py",
   "mimetype": "text/x-python",
   "name": "python",
   "nbconvert_exporter": "python",
   "pygments_lexer": "ipython3",
   "version": "3.6.5"
  }
 },
 "nbformat": 4,
 "nbformat_minor": 2
}
